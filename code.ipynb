{
 "cells": [
  {
   "cell_type": "code",
   "execution_count": 39,
   "metadata": {},
   "outputs": [
    {
     "data": {
      "text/html": [
       "<div>\n",
       "<style scoped>\n",
       "    .dataframe tbody tr th:only-of-type {\n",
       "        vertical-align: middle;\n",
       "    }\n",
       "\n",
       "    .dataframe tbody tr th {\n",
       "        vertical-align: top;\n",
       "    }\n",
       "\n",
       "    .dataframe thead th {\n",
       "        text-align: right;\n",
       "    }\n",
       "</style>\n",
       "<table border=\"1\" class=\"dataframe\">\n",
       "  <thead>\n",
       "    <tr style=\"text-align: right;\">\n",
       "      <th></th>\n",
       "      <th>listing_id</th>\n",
       "      <th>type</th>\n",
       "      <th>sub_type</th>\n",
       "      <th>start_date</th>\n",
       "      <th>end_date</th>\n",
       "      <th>listing_type</th>\n",
       "      <th>building_age</th>\n",
       "      <th>total_floor_count</th>\n",
       "      <th>floor_no</th>\n",
       "      <th>room_count</th>\n",
       "      <th>size</th>\n",
       "      <th>student_avaliable</th>\n",
       "      <th>mortgage_avaliable</th>\n",
       "      <th>address</th>\n",
       "      <th>furnished</th>\n",
       "      <th>heating_type</th>\n",
       "      <th>price</th>\n",
       "      <th>currency</th>\n",
       "    </tr>\n",
       "  </thead>\n",
       "  <tbody>\n",
       "    <tr>\n",
       "      <th>0</th>\n",
       "      <td>1</td>\n",
       "      <td>Konut</td>\n",
       "      <td>Daire</td>\n",
       "      <td>1/3/19</td>\n",
       "      <td>1/3/19</td>\n",
       "      <td>satılık</td>\n",
       "      <td>3</td>\n",
       "      <td>4</td>\n",
       "      <td>Kot 3</td>\n",
       "      <td>3+1</td>\n",
       "      <td>130.0</td>\n",
       "      <td>NaN</td>\n",
       "      <td>NaN</td>\n",
       "      <td>Kocaeli/Körfez/Fatih</td>\n",
       "      <td>Eşyasız</td>\n",
       "      <td>Kalorifer (Doğalgaz)</td>\n",
       "      <td>NaN</td>\n",
       "      <td>NaN</td>\n",
       "    </tr>\n",
       "    <tr>\n",
       "      <th>1</th>\n",
       "      <td>2</td>\n",
       "      <td>Konut</td>\n",
       "      <td>Daire</td>\n",
       "      <td>1/2/19</td>\n",
       "      <td>1/2/19</td>\n",
       "      <td>satılık</td>\n",
       "      <td>0</td>\n",
       "      <td>5</td>\n",
       "      <td>1</td>\n",
       "      <td>4+1</td>\n",
       "      <td>175.0</td>\n",
       "      <td>NaN</td>\n",
       "      <td>NaN</td>\n",
       "      <td>Ankara/Yenimahalle/Burç</td>\n",
       "      <td>Eşyasız</td>\n",
       "      <td>Kombi (Doğalgaz)</td>\n",
       "      <td>209500.0</td>\n",
       "      <td>TRY</td>\n",
       "    </tr>\n",
       "    <tr>\n",
       "      <th>2</th>\n",
       "      <td>3</td>\n",
       "      <td>Konut</td>\n",
       "      <td>Daire</td>\n",
       "      <td>1/2/19</td>\n",
       "      <td>1/2/19</td>\n",
       "      <td>satılık</td>\n",
       "      <td>0</td>\n",
       "      <td>3</td>\n",
       "      <td>1</td>\n",
       "      <td>3+1</td>\n",
       "      <td>125.0</td>\n",
       "      <td>NaN</td>\n",
       "      <td>NaN</td>\n",
       "      <td>Antalya/Kepez/Kütükçü</td>\n",
       "      <td>Eşyasız</td>\n",
       "      <td>Klima</td>\n",
       "      <td>210000.0</td>\n",
       "      <td>TRY</td>\n",
       "    </tr>\n",
       "    <tr>\n",
       "      <th>3</th>\n",
       "      <td>4</td>\n",
       "      <td>Konut</td>\n",
       "      <td>Daire</td>\n",
       "      <td>1/2/19</td>\n",
       "      <td>1/2/19</td>\n",
       "      <td>satılık</td>\n",
       "      <td>0</td>\n",
       "      <td>10</td>\n",
       "      <td>7</td>\n",
       "      <td>2+1</td>\n",
       "      <td>72.0</td>\n",
       "      <td>NaN</td>\n",
       "      <td>NaN</td>\n",
       "      <td>İstanbul/Esenler/Kazım Karabekir</td>\n",
       "      <td>Eşyasız</td>\n",
       "      <td>Klima</td>\n",
       "      <td>285000.0</td>\n",
       "      <td>TRY</td>\n",
       "    </tr>\n",
       "    <tr>\n",
       "      <th>4</th>\n",
       "      <td>5</td>\n",
       "      <td>Konut</td>\n",
       "      <td>Daire</td>\n",
       "      <td>1/2/19</td>\n",
       "      <td>1/2/19</td>\n",
       "      <td>satılık</td>\n",
       "      <td>0</td>\n",
       "      <td>4</td>\n",
       "      <td>3</td>\n",
       "      <td>1+1</td>\n",
       "      <td>75.0</td>\n",
       "      <td>NaN</td>\n",
       "      <td>NaN</td>\n",
       "      <td>İstanbul/Beylikdüzü/Yakuplu</td>\n",
       "      <td>Eşyasız</td>\n",
       "      <td>Kombi (Doğalgaz)</td>\n",
       "      <td>139000.0</td>\n",
       "      <td>TRY</td>\n",
       "    </tr>\n",
       "  </tbody>\n",
       "</table>\n",
       "</div>"
      ],
      "text/plain": [
       "   listing_id   type sub_type start_date end_date listing_type building_age  \\\n",
       "0           1  Konut    Daire     1/3/19   1/3/19      satılık            3   \n",
       "1           2  Konut    Daire     1/2/19   1/2/19      satılık            0   \n",
       "2           3  Konut    Daire     1/2/19   1/2/19      satılık            0   \n",
       "3           4  Konut    Daire     1/2/19   1/2/19      satılık            0   \n",
       "4           5  Konut    Daire     1/2/19   1/2/19      satılık            0   \n",
       "\n",
       "  total_floor_count floor_no room_count   size  student_avaliable  \\\n",
       "0                 4    Kot 3        3+1  130.0                NaN   \n",
       "1                 5        1        4+1  175.0                NaN   \n",
       "2                 3        1        3+1  125.0                NaN   \n",
       "3                10        7        2+1   72.0                NaN   \n",
       "4                 4        3        1+1   75.0                NaN   \n",
       "\n",
       "   mortgage_avaliable                           address furnished  \\\n",
       "0                 NaN              Kocaeli/Körfez/Fatih   Eşyasız   \n",
       "1                 NaN           Ankara/Yenimahalle/Burç   Eşyasız   \n",
       "2                 NaN             Antalya/Kepez/Kütükçü   Eşyasız   \n",
       "3                 NaN  İstanbul/Esenler/Kazım Karabekir   Eşyasız   \n",
       "4                 NaN       İstanbul/Beylikdüzü/Yakuplu   Eşyasız   \n",
       "\n",
       "           heating_type     price currency  \n",
       "0  Kalorifer (Doğalgaz)       NaN      NaN  \n",
       "1      Kombi (Doğalgaz)  209500.0      TRY  \n",
       "2                 Klima  210000.0      TRY  \n",
       "3                 Klima  285000.0      TRY  \n",
       "4      Kombi (Doğalgaz)  139000.0      TRY  "
      ]
     },
     "execution_count": 39,
     "metadata": {},
     "output_type": "execute_result"
    }
   ],
   "source": [
    "import pandas as pd\n",
    "import re \n",
    "\n",
    "df = pd.read_csv('listing_data_publish.csv')\n",
    "df.head()"
   ]
  },
  {
   "cell_type": "code",
   "execution_count": 40,
   "metadata": {},
   "outputs": [
    {
     "name": "stdout",
     "output_type": "stream",
     "text": [
      "1\n",
      "1\n",
      "1\n",
      "4\n",
      "1\n",
      "1\n",
      "5\n",
      "[nan 'TRY' 'EUR' 'GBP' 'USD']\n"
     ]
    }
   ],
   "source": [
    "print(len(df['type'].unique()))\n",
    "print(len(df['sub_type'].unique()))\n",
    "print(len(df['listing_type'].unique()))\n",
    "print(len(df['furnished'].unique()))\n",
    "print(len(df['student_avaliable'].unique()))\n",
    "print(len(df['mortgage_avaliable'].unique()))\n",
    "print(len(df['currency'].unique()))\n",
    "print(df['currency'].unique())\n"
   ]
  },
  {
   "cell_type": "code",
   "execution_count": 41,
   "metadata": {},
   "outputs": [
    {
     "data": {
      "text/plain": [
       "225732    116\n",
       "225733     35\n",
       "225734     10\n",
       "225735    341\n",
       "225736    102\n",
       "Name: time_period, dtype: int64"
      ]
     },
     "execution_count": 41,
     "metadata": {},
     "output_type": "execute_result"
    }
   ],
   "source": [
    "# time period calculation using the column start_date and end_date\n",
    "df['start_date'] = pd.to_datetime(df['start_date'], format='%m/%d/%y')\n",
    "df['end_date'] = pd.to_datetime(df['end_date'], format='%m/%d/%y')\n",
    "df['time_period'] = df['end_date'] - df['start_date']\n",
    "df['time_period'] = df['time_period'].dt.days\n",
    "df['time_period'].tail()\n"
   ]
  },
  {
   "cell_type": "code",
   "execution_count": 42,
   "metadata": {},
   "outputs": [],
   "source": [
    "# def calculate_midpoint_or_average(range_str):\n",
    "#     # Split the range string into start and end, ignoring \"arasi\"\n",
    "#     start, end = map(int, range_str.split('arasi')[0].split('-'))\n",
    "    \n",
    "#     # Calculate the midpoint or average\n",
    "#     return (start + end) / 2\n"
   ]
  },
  {
   "cell_type": "code",
   "execution_count": 43,
   "metadata": {},
   "outputs": [
    {
     "data": {
      "text/plain": [
       "array([ 7,  0, 13,  5,  4,  1, 10,  6,  2,  3, 12,  8, 11,  9])"
      ]
     },
     "execution_count": 43,
     "metadata": {},
     "output_type": "execute_result"
    }
   ],
   "source": [
    "from sklearn.preprocessing import LabelEncoder\n",
    "le = LabelEncoder()\n",
    "df['building_age'] = le.fit_transform(df['building_age'])\n",
    "df['building_age'].unique()"
   ]
  },
  {
   "cell_type": "code",
   "execution_count": 44,
   "metadata": {},
   "outputs": [
    {
     "data": {
      "text/plain": [
       "array([ 6,  7,  5,  1,  2,  3, 10,  8,  0, 11,  4,  9])"
      ]
     },
     "execution_count": 44,
     "metadata": {},
     "output_type": "execute_result"
    }
   ],
   "source": [
    "\n",
    "df['total_floor_count'] = le.fit_transform(df['total_floor_count'])\n",
    "df['total_floor_count'].unique()\n"
   ]
  },
  {
   "cell_type": "code",
   "execution_count": 45,
   "metadata": {},
   "outputs": [
    {
     "data": {
      "text/plain": [
       "array([28,  0, 17, 13, 11, 26, 30, 21, 14, 32, 22, 15,  4, 18, 12,  5,  2,\n",
       "       19, 24, 27,  9, 23, 16, 20,  1,  6, 34, 33, 29,  8,  3,  7, 31, 10,\n",
       "       25])"
      ]
     },
     "execution_count": 45,
     "metadata": {},
     "output_type": "execute_result"
    }
   ],
   "source": [
    "df['floor_no'] = le.fit_transform(df['floor_no'])\n",
    "df['floor_no'].unique()"
   ]
  },
  {
   "cell_type": "code",
   "execution_count": 46,
   "metadata": {},
   "outputs": [
    {
     "name": "stdout",
     "output_type": "stream",
     "text": [
      "225737\n",
      "225737\n"
     ]
    }
   ],
   "source": [
    "df['room'] = df['room_count'].apply(lambda x: int(str(x).split('+')[0]) if str(x).split('+')[0].isdigit() else 0)\n",
    "df['living_room'] = df['room_count'].apply(lambda x: int(str(x).split('+')[1]) if len(str(x).split('+')) > 1 and str(x).split('+')[1].isdigit() else 0)\n",
    "print(df['room'].count())\n",
    "print(df['living_room'].count())"
   ]
  },
  {
   "cell_type": "code",
   "execution_count": 47,
   "metadata": {},
   "outputs": [],
   "source": [
    "\n",
    "df['address'] = le.fit_transform(df['address'])\n",
    "df['heating_type'] = le.fit_transform(df['heating_type'])\n",
    "df['furnished'] = le.fit_transform(df['furnished'])\n",
    "df['currency'] = le.fit_transform(df['currency'])"
   ]
  },
  {
   "cell_type": "code",
   "execution_count": 48,
   "metadata": {},
   "outputs": [
    {
     "name": "stdout",
     "output_type": "stream",
     "text": [
      "time_period            0\n",
      "building_age           0\n",
      "total_floor_count      0\n",
      "floor_no               0\n",
      "room                   0\n",
      "living_room            0\n",
      "size                 164\n",
      "address                0\n",
      "furnished              0\n",
      "heating_type           0\n",
      "currency               0\n",
      "dtype: int64\n",
      "21\n"
     ]
    }
   ],
   "source": [
    "# selecting X and y features\n",
    "X  = df[['time_period','building_age','total_floor_count','floor_no','room','living_room','size','address','furnished','heating_type','currency']]\n",
    "y= df['price']\n",
    "\n",
    "print(X.isnull().sum())\n",
    "print(y.isnull().sum())"
   ]
  },
  {
   "cell_type": "code",
   "execution_count": 49,
   "metadata": {},
   "outputs": [
    {
     "data": {
      "text/plain": [
       "time_period          0\n",
       "building_age         0\n",
       "total_floor_count    0\n",
       "floor_no             0\n",
       "room                 0\n",
       "living_room          0\n",
       "size                 0\n",
       "address              0\n",
       "furnished            0\n",
       "heating_type         0\n",
       "currency             0\n",
       "dtype: int64"
      ]
     },
     "execution_count": 49,
     "metadata": {},
     "output_type": "execute_result"
    }
   ],
   "source": [
    "from sklearn.impute import SimpleImputer\n",
    "\n",
    "imputer = SimpleImputer(strategy='mean')\n",
    "X = X.copy()\n",
    "X['size'] = imputer.fit_transform(X[['size']])\n",
    "X.isnull().sum()"
   ]
  },
  {
   "cell_type": "code",
   "execution_count": 50,
   "metadata": {},
   "outputs": [
    {
     "data": {
      "text/plain": [
       "0"
      ]
     },
     "execution_count": 50,
     "metadata": {},
     "output_type": "execute_result"
    }
   ],
   "source": [
    "y = y.fillna(y.mean())\n",
    "y.isnull().sum()"
   ]
  },
  {
   "cell_type": "code",
   "execution_count": 51,
   "metadata": {},
   "outputs": [],
   "source": [
    "from sklearn.preprocessing import StandardScaler\n",
    "scaler = StandardScaler()\n",
    "X = scaler.fit_transform(X)\n",
    "\n",
    "y = y.values.reshape(-1,1)\n",
    "y = scaler.fit_transform(y)\n",
    "\n",
    "\n",
    "from sklearn.model_selection import train_test_split\n",
    "X_train, X_test, y_train, y_test = train_test_split(X, y, test_size=0.2, random_state=42)\n",
    "\n"
   ]
  },
  {
   "cell_type": "code",
   "execution_count": 52,
   "metadata": {},
   "outputs": [
    {
     "name": "stdout",
     "output_type": "stream",
     "text": [
      "(180589, 11) (45148, 11) (180589, 1) (45148, 1)\n"
     ]
    }
   ],
   "source": [
    "print(X_train.shape, X_test.shape, y_train.shape, y_test.shape)\n"
   ]
  },
  {
   "cell_type": "code",
   "execution_count": 53,
   "metadata": {},
   "outputs": [],
   "source": [
    "\n",
    "from sklearn.metrics import accuracy_score\n",
    "from keras.models import Sequential\n",
    "from keras.layers import Dense\n",
    "import warnings\n",
    "warnings.filterwarnings('ignore')\n"
   ]
  },
  {
   "cell_type": "code",
   "execution_count": 55,
   "metadata": {},
   "outputs": [
    {
     "name": "stdout",
     "output_type": "stream",
     "text": [
      "Epoch 1/10\n",
      "18059/18059 - 48s - loss: 0.4406 - 48s/epoch - 3ms/step\n",
      "Epoch 2/10\n",
      "18059/18059 - 50s - loss: 0.4313 - 50s/epoch - 3ms/step\n",
      "Epoch 3/10\n",
      "18059/18059 - 49s - loss: 0.4293 - 49s/epoch - 3ms/step\n",
      "Epoch 4/10\n",
      "18059/18059 - 50s - loss: 0.4269 - 50s/epoch - 3ms/step\n",
      "Epoch 5/10\n",
      "18059/18059 - 44s - loss: 0.4259 - 44s/epoch - 2ms/step\n",
      "Epoch 6/10\n",
      "18059/18059 - 47s - loss: 0.4256 - 47s/epoch - 3ms/step\n",
      "Epoch 7/10\n",
      "18059/18059 - 51s - loss: 0.4234 - 51s/epoch - 3ms/step\n",
      "Epoch 8/10\n",
      "18059/18059 - 49s - loss: 0.4232 - 49s/epoch - 3ms/step\n",
      "Epoch 9/10\n",
      "18059/18059 - 45s - loss: 0.4239 - 45s/epoch - 2ms/step\n",
      "Epoch 10/10\n",
      "18059/18059 - 47s - loss: 0.4219 - 47s/epoch - 3ms/step\n",
      "1411/1411 [==============================] - 5s 3ms/step\n",
      "MSE: 3.0213154679094996\n"
     ]
    }
   ],
   "source": [
    "from sklearn.metrics import mean_squared_error\n",
    "\n",
    "model = Sequential([\n",
    "        Dense(10, input_dim=11, activation='relu'),\n",
    "        Dense(20, activation='relu'),\n",
    "        Dense(50, activation='relu'),\n",
    "        Dense(1) \n",
    "    ])\n",
    "model.compile(optimizer='adam', loss='mean_squared_error')\n",
    "model.fit(X_train, y_train, epochs=10, batch_size=10, verbose=2)\n",
    "\n",
    "\n",
    "\n",
    "y_pred = model.predict(X_test)\n",
    "print('MSE:', mean_squared_error(y_test, y_pred))\n"
   ]
  },
  {
   "cell_type": "code",
   "execution_count": 76,
   "metadata": {},
   "outputs": [
    {
     "data": {
      "image/png": "[encoded data removed]",
      "text/plain": [
       "<Figure size 1000x600 with 1 Axes>"
      ]
     },
     "metadata": {},
     "output_type": "display_data"
    }
   ],
   "source": [
    "\n",
    "\n",
    "import matplotlib.pyplot as plt\n",
    "\n",
    "# Assuming y_test are the actual values and y_pred are the predicted values\n",
    "plt.figure(figsize=(10, 6))\n",
    "plt.scatter(y_test, y_pred, alpha=0.5)\n",
    "plt.xlabel('Actual Values')\n",
    "plt.ylabel('Predicted Values')\n",
    "plt.title('Actual vs Predicted Values')\n",
    "plt.show()\n"
   ]
  },
  {
   "cell_type": "code",
   "execution_count": 68,
   "metadata": {},
   "outputs": [
    {
     "name": "stdout",
     "output_type": "stream",
     "text": [
      "time_period             108.0\n",
      "building_age              6.0\n",
      "total_floor_count         2.0\n",
      "floor_no                  8.0\n",
      "room                      1.0\n",
      "living_room               0.0\n",
      "size                     60.0\n",
      "address                3538.0\n",
      "furnished                 0.0\n",
      "heating_type              0.0\n",
      "currency                  0.0\n",
      "price                170000.0\n",
      "dtype: float64\n"
     ]
    }
   ],
   "source": [
    "# linear regression\n",
    "from sklearn.linear_model import LinearRegression\n",
    "regressor = LinearRegression()\n",
    "\n",
    "df = df[['time_period','building_age','total_floor_count','floor_no','room','living_room','size','address','furnished','heating_type','currency','price']]\n",
    "\n",
    "df['size'] = df['size'].fillna(df['size'].mean())\n",
    "df['price'] = df['price'].fillna(df['price'].mean())\n",
    "\n",
    "Q1 = df.quantile(0.25)\n",
    "Q3 = df.quantile(0.75)\n",
    "\n",
    "IQR = Q3 - Q1\n",
    "print(IQR)\n",
    "\n"
   ]
  },
  {
   "cell_type": "code",
   "execution_count": 69,
   "metadata": {},
   "outputs": [
    {
     "name": "stdout",
     "output_type": "stream",
     "text": [
      "time_period           -132.0\n",
      "building_age            -9.0\n",
      "total_floor_count        2.0\n",
      "floor_no                -1.0\n",
      "room                     0.5\n",
      "living_room              1.0\n",
      "size                     0.0\n",
      "address              -4255.0\n",
      "furnished                1.0\n",
      "heating_type             8.0\n",
      "currency                 2.0\n",
      "price               -86000.0\n",
      "dtype: float64\n",
      "time_period             300.0\n",
      "building_age             15.0\n",
      "total_floor_count        10.0\n",
      "floor_no                 31.0\n",
      "room                      4.5\n",
      "living_room               1.0\n",
      "size                    240.0\n",
      "address                9897.0\n",
      "furnished                 1.0\n",
      "heating_type              8.0\n",
      "currency                  2.0\n",
      "price                594000.0\n",
      "dtype: float64\n"
     ]
    }
   ],
   "source": [
    "min_threshold = Q1 - 1.5 * IQR\n",
    "max_threshold = Q3 + 1.5 * IQR\n",
    "\n",
    "print(min_threshold)\n",
    "print(max_threshold)\n"
   ]
  },
  {
   "cell_type": "code",
   "execution_count": 70,
   "metadata": {},
   "outputs": [
    {
     "name": "stdout",
     "output_type": "stream",
     "text": [
      "time_period           2790\n",
      "building_age             0\n",
      "total_floor_count    14082\n",
      "floor_no             23442\n",
      "room                  5746\n",
      "living_room           6546\n",
      "size                  5964\n",
      "address                  0\n",
      "furnished            28637\n",
      "heating_type         83322\n",
      "currency              1904\n",
      "price                15516\n",
      "dtype: int64\n"
     ]
    }
   ],
   "source": [
    "\n",
    "outliers = (df < (Q1 - 1.5 * IQR)) | (df > (Q3 + 1.5 * IQR))\n",
    "\n",
    "print(outliers.sum())\n"
   ]
  },
  {
   "cell_type": "code",
   "execution_count": 71,
   "metadata": {},
   "outputs": [
    {
     "name": "stdout",
     "output_type": "stream",
     "text": [
      "time_period           2790\n",
      "building_age             0\n",
      "total_floor_count    14082\n",
      "floor_no             23442\n",
      "room                  5746\n",
      "living_room           6546\n",
      "size                  5964\n",
      "address                  0\n",
      "furnished            28637\n",
      "heating_type         83322\n",
      "currency              1904\n",
      "price                15516\n",
      "dtype: int64\n",
      "(225737, 12)\n",
      "   time_period  building_age  total_floor_count  floor_no  room  living_room  \\\n",
      "0            0             7                  6        28     3            1   \n",
      "1            0             0                  7         0     4            1   \n",
      "2            0             0                  5         0     3            1   \n",
      "3            0             0                  6        17     2            1   \n",
      "4            0             0                  6        13     1            1   \n",
      "\n",
      "    size  address  furnished  heating_type  currency          price  \n",
      "0  130.0     2564          1             8         2  308794.894203  \n",
      "1  175.0      517          1             8         2  209500.000000  \n",
      "2  125.0      760          1             8         2  210000.000000  \n",
      "3   72.0     4583          1             8         2  285000.000000  \n",
      "4   75.0     4494          1             8         2  139000.000000  \n"
     ]
    }
   ],
   "source": [
    "outliers = (df < (Q1 - 1.5 * IQR)) | (df > (Q3 + 1.5 * IQR))\n",
    "\n",
    "print(outliers.sum())\n",
    "\n",
    "# replace outliers with the median of the column\n",
    "df = df.mask(outliers, df.median(), axis=1)\n",
    "\n",
    "\n",
    "# size of the dataset after removing outliers\n",
    "print(df.shape)\n",
    "\n",
    "print(df.head())"
   ]
  },
  {
   "cell_type": "code",
   "execution_count": 72,
   "metadata": {},
   "outputs": [
    {
     "name": "stdout",
     "output_type": "stream",
     "text": [
      "MSE: 0.775443656516242\n"
     ]
    }
   ],
   "source": [
    "scaler = StandardScaler()\n",
    "X = df[['time_period','building_age','total_floor_count','floor_no','room','living_room','size','address','furnished','heating_type','currency']]\n",
    "X = scaler.fit_transform(X)\n",
    "\n",
    "y = df['price'].values.reshape(-1,1)\n",
    "y = scaler.fit_transform(y)\n",
    "\n",
    "X_train, X_test, y_train, y_test2 = train_test_split(X, y, test_size=0.2, random_state=42)\n",
    "\n",
    "regressor.fit(X_train, y_train)\n",
    "y_pred2 = regressor.predict(X_test)\n",
    "print('MSE:', mean_squared_error(y_test2, y_pred2))\n",
    "\n"
   ]
  },
  {
   "cell_type": "code",
   "execution_count": 75,
   "metadata": {},
   "outputs": [
    {
     "data": {
      "image/png": "[encoded data removed]",
      "text/plain": [
       "<Figure size 800x500 with 1 Axes>"
      ]
     },
     "metadata": {},
     "output_type": "display_data"
    }
   ],
   "source": [
    "\n",
    "import matplotlib.pyplot as plt\n",
    "\n",
    "plt.figure(figsize=(8, 5))\n",
    "\n",
    "plt.scatter(y_test2, y_pred2, s=50, color='black')\n",
    "\n",
    "plt.xlabel('Actual Prices')\n",
    "plt.ylabel('Predicted Prices')\n",
    "plt.title('Actual Prices vs Predicted Prices')\n",
    "\n",
    "plt.plot([-2,3],[-2,3] ,color='red', label='Regression line', linewidth=3, linestyle='--')\n",
    "\n",
    "plt.show()"
   ]
  },
  {
   "cell_type": "code",
   "execution_count": null,
   "metadata": {},
   "outputs": [],
   "source": []
  }
 ],
 "metadata": {
  "kernelspec": {
   "display_name": "Python 3",
   "language": "python",
   "name": "python3"
  },
  "language_info": {
   "codemirror_mode": {
    "name": "ipython",
    "version": 3
   },
   "file_extension": ".py",
   "mimetype": "text/x-python",
   "name": "python",
   "nbconvert_exporter": "python",
   "pygments_lexer": "ipython3",
   "version": "3.10.12"
  }
 },
 "nbformat": 4,
 "nbformat_minor": 2
}
